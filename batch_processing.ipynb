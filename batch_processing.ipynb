{
 "cells": [
  {
   "cell_type": "markdown",
   "metadata": {},
   "source": [
    "# Batch Processing!\n",
    "#### A notebook to show some of the capilities available through the BatchAnalysis package\n",
    "\n",
    "This is certainly not an exhaustive look at everything that the BatchAnalysis module can do, but should hopefully provide some insight. \n",
    "...or, maybe I'm just procrastinating doing more useful work."
   ]
  },
  {
   "cell_type": "code",
   "execution_count": 1,
   "metadata": {},
   "outputs": [],
   "source": [
    "# Python Modules and instantiation\n",
    "import numpy as np\n",
    "import matplotlib.pyplot as plt \n",
    "import pandas as pd\n",
    "import time\n",
    "import os\n",
    "# %matplotlib widget\n",
    "# ROSCO toolbox modules \n",
    "from ROSCO_toolbox import utilities as wtc_utilities\n",
    "# WISDEM modules\n",
    "from wisdem.aeroelasticse.Util import FileTools\n",
    "# Batch Analysis tools\n",
    "from BatchAnalysis import Processing, Analysis\n",
    "from BatchAnalysis import pdTools\n",
    "\n",
    "# Instantiate fast_IO\n",
    "fast_io = wtc_utilities.FAST_IO()\n",
    "fast_pl = wtc_utilities.FAST_Plots()"
   ]
  },
  {
   "cell_type": "markdown",
   "metadata": {},
   "source": [
    "### Define file paths and filenames\n",
    "I'm loading a case matrix output from using wisdem.aeroelasticse.CaseGen_General to run a series of batch runs to initialize the output files here. I'm just using some saved runs on my computer that are of no actual significants (and actually don't look great, but get the point accross)."
   ]
  },
  {
   "cell_type": "code",
   "execution_count": 2,
   "metadata": {},
   "outputs": [],
   "source": [
    "# point to some file paths\n",
    "outfile_base = '../BatchOutputs/5MW_Land/5MW_Land_ROSCO/'\n",
    "fname_case_matrix = '../BatchOutputs/5MW_Land/5MW_Land_ROSCO/case_matrix.yaml'"
   ]
  },
  {
   "cell_type": "code",
   "execution_count": 3,
   "metadata": {},
   "outputs": [
    {
     "data": {
      "text/html": [
       "<div>\n",
       "<style scoped>\n",
       "    .dataframe tbody tr th:only-of-type {\n",
       "        vertical-align: middle;\n",
       "    }\n",
       "\n",
       "    .dataframe tbody tr th {\n",
       "        vertical-align: top;\n",
       "    }\n",
       "\n",
       "    .dataframe thead th {\n",
       "        text-align: right;\n",
       "    }\n",
       "</style>\n",
       "<table border=\"1\" class=\"dataframe\">\n",
       "  <thead>\n",
       "    <tr style=\"text-align: right;\">\n",
       "      <th></th>\n",
       "      <th>(IEC, DLC)</th>\n",
       "      <th>(AeroDyn15, TwrAero)</th>\n",
       "      <th>(DISCON_in, Fl_Mode)</th>\n",
       "      <th>(DISCON_in, PS_Mode)</th>\n",
       "      <th>(ElastoDyn, BlPitch1)</th>\n",
       "      <th>(ElastoDyn, BlPitch2)</th>\n",
       "      <th>(ElastoDyn, BlPitch3)</th>\n",
       "      <th>(ElastoDyn, RotSpeed)</th>\n",
       "      <th>(Fst, OutFileFmt)</th>\n",
       "      <th>(Fst, TMax)</th>\n",
       "      <th>(InflowWind, Filename)</th>\n",
       "      <th>(InflowWind, WindType)</th>\n",
       "      <th>(ServoDyn, DLL_FileName)</th>\n",
       "      <th>Case_ID</th>\n",
       "      <th>Case_Name</th>\n",
       "    </tr>\n",
       "  </thead>\n",
       "  <tbody>\n",
       "    <tr>\n",
       "      <th>0</th>\n",
       "      <td>1.1</td>\n",
       "      <td>True</td>\n",
       "      <td>0</td>\n",
       "      <td>0</td>\n",
       "      <td>0.000</td>\n",
       "      <td>0.000</td>\n",
       "      <td>0.000</td>\n",
       "      <td>7.506</td>\n",
       "      <td>2</td>\n",
       "      <td>660</td>\n",
       "      <td>/lustre/eaglefs/projects/ssc/nabbas/DLC_Analys...</td>\n",
       "      <td>3</td>\n",
       "      <td>/home/nabbas/ROSCO_toolbox/ROSCO/build/libdisc...</td>\n",
       "      <td>0</td>\n",
       "      <td>5MW_Land_rosco_00</td>\n",
       "    </tr>\n",
       "    <tr>\n",
       "      <th>1</th>\n",
       "      <td>1.1</td>\n",
       "      <td>True</td>\n",
       "      <td>0</td>\n",
       "      <td>0</td>\n",
       "      <td>0.000</td>\n",
       "      <td>0.000</td>\n",
       "      <td>0.000</td>\n",
       "      <td>7.506</td>\n",
       "      <td>2</td>\n",
       "      <td>660</td>\n",
       "      <td>/lustre/eaglefs/projects/ssc/nabbas/DLC_Analys...</td>\n",
       "      <td>3</td>\n",
       "      <td>/home/nabbas/ROSCO_toolbox/ROSCO/build/libdisc...</td>\n",
       "      <td>1</td>\n",
       "      <td>5MW_Land_rosco_01</td>\n",
       "    </tr>\n",
       "    <tr>\n",
       "      <th>2</th>\n",
       "      <td>1.1</td>\n",
       "      <td>True</td>\n",
       "      <td>0</td>\n",
       "      <td>0</td>\n",
       "      <td>0.000</td>\n",
       "      <td>0.000</td>\n",
       "      <td>0.000</td>\n",
       "      <td>7.942</td>\n",
       "      <td>2</td>\n",
       "      <td>660</td>\n",
       "      <td>/lustre/eaglefs/projects/ssc/nabbas/DLC_Analys...</td>\n",
       "      <td>3</td>\n",
       "      <td>/home/nabbas/ROSCO_toolbox/ROSCO/build/libdisc...</td>\n",
       "      <td>2</td>\n",
       "      <td>5MW_Land_rosco_02</td>\n",
       "    </tr>\n",
       "    <tr>\n",
       "      <th>3</th>\n",
       "      <td>1.1</td>\n",
       "      <td>True</td>\n",
       "      <td>0</td>\n",
       "      <td>0</td>\n",
       "      <td>0.000</td>\n",
       "      <td>0.000</td>\n",
       "      <td>0.000</td>\n",
       "      <td>7.942</td>\n",
       "      <td>2</td>\n",
       "      <td>660</td>\n",
       "      <td>/lustre/eaglefs/projects/ssc/nabbas/DLC_Analys...</td>\n",
       "      <td>3</td>\n",
       "      <td>/home/nabbas/ROSCO_toolbox/ROSCO/build/libdisc...</td>\n",
       "      <td>3</td>\n",
       "      <td>5MW_Land_rosco_03</td>\n",
       "    </tr>\n",
       "    <tr>\n",
       "      <th>4</th>\n",
       "      <td>1.1</td>\n",
       "      <td>True</td>\n",
       "      <td>0</td>\n",
       "      <td>0</td>\n",
       "      <td>0.000</td>\n",
       "      <td>0.000</td>\n",
       "      <td>0.000</td>\n",
       "      <td>8.469</td>\n",
       "      <td>2</td>\n",
       "      <td>660</td>\n",
       "      <td>/lustre/eaglefs/projects/ssc/nabbas/DLC_Analys...</td>\n",
       "      <td>3</td>\n",
       "      <td>/home/nabbas/ROSCO_toolbox/ROSCO/build/libdisc...</td>\n",
       "      <td>4</td>\n",
       "      <td>5MW_Land_rosco_04</td>\n",
       "    </tr>\n",
       "    <tr>\n",
       "      <th>...</th>\n",
       "      <td>...</td>\n",
       "      <td>...</td>\n",
       "      <td>...</td>\n",
       "      <td>...</td>\n",
       "      <td>...</td>\n",
       "      <td>...</td>\n",
       "      <td>...</td>\n",
       "      <td>...</td>\n",
       "      <td>...</td>\n",
       "      <td>...</td>\n",
       "      <td>...</td>\n",
       "      <td>...</td>\n",
       "      <td>...</td>\n",
       "      <td>...</td>\n",
       "      <td>...</td>\n",
       "    </tr>\n",
       "    <tr>\n",
       "      <th>59</th>\n",
       "      <td>1.3</td>\n",
       "      <td>True</td>\n",
       "      <td>0</td>\n",
       "      <td>0</td>\n",
       "      <td>14.920</td>\n",
       "      <td>14.920</td>\n",
       "      <td>14.920</td>\n",
       "      <td>12.100</td>\n",
       "      <td>2</td>\n",
       "      <td>660</td>\n",
       "      <td>/lustre/eaglefs/projects/ssc/nabbas/DLC_Analys...</td>\n",
       "      <td>3</td>\n",
       "      <td>/home/nabbas/ROSCO_toolbox/ROSCO/build/libdisc...</td>\n",
       "      <td>59</td>\n",
       "      <td>5MW_Land_rosco_59</td>\n",
       "    </tr>\n",
       "    <tr>\n",
       "      <th>60</th>\n",
       "      <td>1.3</td>\n",
       "      <td>True</td>\n",
       "      <td>0</td>\n",
       "      <td>0</td>\n",
       "      <td>16.226</td>\n",
       "      <td>16.226</td>\n",
       "      <td>16.226</td>\n",
       "      <td>12.100</td>\n",
       "      <td>2</td>\n",
       "      <td>660</td>\n",
       "      <td>/lustre/eaglefs/projects/ssc/nabbas/DLC_Analys...</td>\n",
       "      <td>3</td>\n",
       "      <td>/home/nabbas/ROSCO_toolbox/ROSCO/build/libdisc...</td>\n",
       "      <td>60</td>\n",
       "      <td>5MW_Land_rosco_60</td>\n",
       "    </tr>\n",
       "    <tr>\n",
       "      <th>61</th>\n",
       "      <td>1.3</td>\n",
       "      <td>True</td>\n",
       "      <td>0</td>\n",
       "      <td>0</td>\n",
       "      <td>16.226</td>\n",
       "      <td>16.226</td>\n",
       "      <td>16.226</td>\n",
       "      <td>12.100</td>\n",
       "      <td>2</td>\n",
       "      <td>660</td>\n",
       "      <td>/lustre/eaglefs/projects/ssc/nabbas/DLC_Analys...</td>\n",
       "      <td>3</td>\n",
       "      <td>/home/nabbas/ROSCO_toolbox/ROSCO/build/libdisc...</td>\n",
       "      <td>61</td>\n",
       "      <td>5MW_Land_rosco_61</td>\n",
       "    </tr>\n",
       "    <tr>\n",
       "      <th>62</th>\n",
       "      <td>1.3</td>\n",
       "      <td>True</td>\n",
       "      <td>0</td>\n",
       "      <td>0</td>\n",
       "      <td>17.473</td>\n",
       "      <td>17.473</td>\n",
       "      <td>17.473</td>\n",
       "      <td>12.100</td>\n",
       "      <td>2</td>\n",
       "      <td>660</td>\n",
       "      <td>/lustre/eaglefs/projects/ssc/nabbas/DLC_Analys...</td>\n",
       "      <td>3</td>\n",
       "      <td>/home/nabbas/ROSCO_toolbox/ROSCO/build/libdisc...</td>\n",
       "      <td>62</td>\n",
       "      <td>5MW_Land_rosco_62</td>\n",
       "    </tr>\n",
       "    <tr>\n",
       "      <th>63</th>\n",
       "      <td>1.3</td>\n",
       "      <td>True</td>\n",
       "      <td>0</td>\n",
       "      <td>0</td>\n",
       "      <td>17.473</td>\n",
       "      <td>17.473</td>\n",
       "      <td>17.473</td>\n",
       "      <td>12.100</td>\n",
       "      <td>2</td>\n",
       "      <td>660</td>\n",
       "      <td>/lustre/eaglefs/projects/ssc/nabbas/DLC_Analys...</td>\n",
       "      <td>3</td>\n",
       "      <td>/home/nabbas/ROSCO_toolbox/ROSCO/build/libdisc...</td>\n",
       "      <td>63</td>\n",
       "      <td>5MW_Land_rosco_63</td>\n",
       "    </tr>\n",
       "  </tbody>\n",
       "</table>\n",
       "<p>64 rows × 15 columns</p>\n",
       "</div>"
      ],
      "text/plain": [
       "    (IEC, DLC)  (AeroDyn15, TwrAero)  (DISCON_in, Fl_Mode)  \\\n",
       "0          1.1                  True                     0   \n",
       "1          1.1                  True                     0   \n",
       "2          1.1                  True                     0   \n",
       "3          1.1                  True                     0   \n",
       "4          1.1                  True                     0   \n",
       "..         ...                   ...                   ...   \n",
       "59         1.3                  True                     0   \n",
       "60         1.3                  True                     0   \n",
       "61         1.3                  True                     0   \n",
       "62         1.3                  True                     0   \n",
       "63         1.3                  True                     0   \n",
       "\n",
       "    (DISCON_in, PS_Mode)  (ElastoDyn, BlPitch1)  (ElastoDyn, BlPitch2)  \\\n",
       "0                      0                  0.000                  0.000   \n",
       "1                      0                  0.000                  0.000   \n",
       "2                      0                  0.000                  0.000   \n",
       "3                      0                  0.000                  0.000   \n",
       "4                      0                  0.000                  0.000   \n",
       "..                   ...                    ...                    ...   \n",
       "59                     0                 14.920                 14.920   \n",
       "60                     0                 16.226                 16.226   \n",
       "61                     0                 16.226                 16.226   \n",
       "62                     0                 17.473                 17.473   \n",
       "63                     0                 17.473                 17.473   \n",
       "\n",
       "    (ElastoDyn, BlPitch3)  (ElastoDyn, RotSpeed)  (Fst, OutFileFmt)  \\\n",
       "0                   0.000                  7.506                  2   \n",
       "1                   0.000                  7.506                  2   \n",
       "2                   0.000                  7.942                  2   \n",
       "3                   0.000                  7.942                  2   \n",
       "4                   0.000                  8.469                  2   \n",
       "..                    ...                    ...                ...   \n",
       "59                 14.920                 12.100                  2   \n",
       "60                 16.226                 12.100                  2   \n",
       "61                 16.226                 12.100                  2   \n",
       "62                 17.473                 12.100                  2   \n",
       "63                 17.473                 12.100                  2   \n",
       "\n",
       "    (Fst, TMax)                             (InflowWind, Filename)  \\\n",
       "0           660  /lustre/eaglefs/projects/ssc/nabbas/DLC_Analys...   \n",
       "1           660  /lustre/eaglefs/projects/ssc/nabbas/DLC_Analys...   \n",
       "2           660  /lustre/eaglefs/projects/ssc/nabbas/DLC_Analys...   \n",
       "3           660  /lustre/eaglefs/projects/ssc/nabbas/DLC_Analys...   \n",
       "4           660  /lustre/eaglefs/projects/ssc/nabbas/DLC_Analys...   \n",
       "..          ...                                                ...   \n",
       "59          660  /lustre/eaglefs/projects/ssc/nabbas/DLC_Analys...   \n",
       "60          660  /lustre/eaglefs/projects/ssc/nabbas/DLC_Analys...   \n",
       "61          660  /lustre/eaglefs/projects/ssc/nabbas/DLC_Analys...   \n",
       "62          660  /lustre/eaglefs/projects/ssc/nabbas/DLC_Analys...   \n",
       "63          660  /lustre/eaglefs/projects/ssc/nabbas/DLC_Analys...   \n",
       "\n",
       "    (InflowWind, WindType)                           (ServoDyn, DLL_FileName)  \\\n",
       "0                        3  /home/nabbas/ROSCO_toolbox/ROSCO/build/libdisc...   \n",
       "1                        3  /home/nabbas/ROSCO_toolbox/ROSCO/build/libdisc...   \n",
       "2                        3  /home/nabbas/ROSCO_toolbox/ROSCO/build/libdisc...   \n",
       "3                        3  /home/nabbas/ROSCO_toolbox/ROSCO/build/libdisc...   \n",
       "4                        3  /home/nabbas/ROSCO_toolbox/ROSCO/build/libdisc...   \n",
       "..                     ...                                                ...   \n",
       "59                       3  /home/nabbas/ROSCO_toolbox/ROSCO/build/libdisc...   \n",
       "60                       3  /home/nabbas/ROSCO_toolbox/ROSCO/build/libdisc...   \n",
       "61                       3  /home/nabbas/ROSCO_toolbox/ROSCO/build/libdisc...   \n",
       "62                       3  /home/nabbas/ROSCO_toolbox/ROSCO/build/libdisc...   \n",
       "63                       3  /home/nabbas/ROSCO_toolbox/ROSCO/build/libdisc...   \n",
       "\n",
       "    Case_ID          Case_Name  \n",
       "0         0  5MW_Land_rosco_00  \n",
       "1         1  5MW_Land_rosco_01  \n",
       "2         2  5MW_Land_rosco_02  \n",
       "3         3  5MW_Land_rosco_03  \n",
       "4         4  5MW_Land_rosco_04  \n",
       "..      ...                ...  \n",
       "59       59  5MW_Land_rosco_59  \n",
       "60       60  5MW_Land_rosco_60  \n",
       "61       61  5MW_Land_rosco_61  \n",
       "62       62  5MW_Land_rosco_62  \n",
       "63       63  5MW_Land_rosco_63  \n",
       "\n",
       "[64 rows x 15 columns]"
      ]
     },
     "execution_count": 3,
     "metadata": {},
     "output_type": "execute_result"
    }
   ],
   "source": [
    "# Load case matrix into datafraome\n",
    "case_matrix = FileTools.load_yaml(fname_case_matrix, package=1)\n",
    "cm = pd.DataFrame(case_matrix)\n",
    "cm"
   ]
  },
  {
   "cell_type": "code",
   "execution_count": 4,
   "metadata": {
    "scrolled": true
   },
   "outputs": [],
   "source": [
    "# Define DLCs we care to separate things by\n",
    "DLCs = [1.1, 1.3]"
   ]
  },
  {
   "cell_type": "code",
   "execution_count": 5,
   "metadata": {},
   "outputs": [],
   "source": [
    "# Pare down case matrix for desired runs and load the outfiles\n",
    "cm2 = pd.concat([cm[cm[('IEC','DLC')]==dlc].iloc[5:15] for dlc in DLCs]).reset_index()\n",
    "# Parse find outfiles names\n",
    "outfiles = []\n",
    "for dlc in DLCs:\n",
    "    case_names = cm2[cm2[('IEC','DLC')]==dlc]['Case_Name']\n",
    "    outnames = list( outfile_base + case_names + '.outb' )\n",
    "    outfiles.append(outnames)"
   ]
  },
  {
   "cell_type": "markdown",
   "metadata": {},
   "source": [
    "#### `outfiles`\n",
    "In the end, we just need a list of OpenFAST output files. Here, we have a structure that looks something like `[[], []]`. This could be extended any amount like `[[],[],...,[], []]`, or just be one list of strings `[]`."
   ]
  },
  {
   "cell_type": "code",
   "execution_count": 6,
   "metadata": {},
   "outputs": [
    {
     "data": {
      "text/plain": [
       "[['../BatchOutputs/5MW_Land/5MW_Land_ROSCO/5MW_Land_rosco_05.outb',\n",
       "  '../BatchOutputs/5MW_Land/5MW_Land_ROSCO/5MW_Land_rosco_06.outb',\n",
       "  '../BatchOutputs/5MW_Land/5MW_Land_ROSCO/5MW_Land_rosco_07.outb',\n",
       "  '../BatchOutputs/5MW_Land/5MW_Land_ROSCO/5MW_Land_rosco_08.outb',\n",
       "  '../BatchOutputs/5MW_Land/5MW_Land_ROSCO/5MW_Land_rosco_09.outb',\n",
       "  '../BatchOutputs/5MW_Land/5MW_Land_ROSCO/5MW_Land_rosco_10.outb',\n",
       "  '../BatchOutputs/5MW_Land/5MW_Land_ROSCO/5MW_Land_rosco_11.outb',\n",
       "  '../BatchOutputs/5MW_Land/5MW_Land_ROSCO/5MW_Land_rosco_12.outb',\n",
       "  '../BatchOutputs/5MW_Land/5MW_Land_ROSCO/5MW_Land_rosco_13.outb',\n",
       "  '../BatchOutputs/5MW_Land/5MW_Land_ROSCO/5MW_Land_rosco_14.outb'],\n",
       " ['../BatchOutputs/5MW_Land/5MW_Land_ROSCO/5MW_Land_rosco_37.outb',\n",
       "  '../BatchOutputs/5MW_Land/5MW_Land_ROSCO/5MW_Land_rosco_38.outb',\n",
       "  '../BatchOutputs/5MW_Land/5MW_Land_ROSCO/5MW_Land_rosco_39.outb',\n",
       "  '../BatchOutputs/5MW_Land/5MW_Land_ROSCO/5MW_Land_rosco_40.outb',\n",
       "  '../BatchOutputs/5MW_Land/5MW_Land_ROSCO/5MW_Land_rosco_41.outb',\n",
       "  '../BatchOutputs/5MW_Land/5MW_Land_ROSCO/5MW_Land_rosco_42.outb',\n",
       "  '../BatchOutputs/5MW_Land/5MW_Land_ROSCO/5MW_Land_rosco_43.outb',\n",
       "  '../BatchOutputs/5MW_Land/5MW_Land_ROSCO/5MW_Land_rosco_44.outb',\n",
       "  '../BatchOutputs/5MW_Land/5MW_Land_ROSCO/5MW_Land_rosco_45.outb',\n",
       "  '../BatchOutputs/5MW_Land/5MW_Land_ROSCO/5MW_Land_rosco_46.outb']]"
      ]
     },
     "execution_count": 6,
     "metadata": {},
     "output_type": "execute_result"
    }
   ],
   "source": [
    "outfiles"
   ]
  },
  {
   "cell_type": "markdown",
   "metadata": {},
   "source": [
    "### Now we can do some processing!\n",
    "\n",
    "First, let's load the FAST_Processing class and initialize some parameters.\n"
   ]
  },
  {
   "cell_type": "code",
   "execution_count": 7,
   "metadata": {},
   "outputs": [],
   "source": [
    "fp = Processing.FAST_Processing()\n",
    "fp.OpenFAST_outfile_list = outfiles\n",
    "fp.dataset_names = ['DLC1.1', 'DLC1.3']\n",
    "fp.to = 30\n",
    "fp.parallel_analysis = True\n",
    "fp.save_LoadRanking = True\n",
    "fp.save_SummaryStats = True\n",
    "fp.verbose=False\n",
    "fp.ranking_vars = [[\"RotSpeed\"], \n",
    "                    [\"OoPDefl1\", \"OoPDefl2\", \"OoPDefl3\"], \n",
    "                    ['RootMxc1', 'RootMxc2', 'RootMxc3'],\n",
    "                    ['TwrBsFyt'],\n",
    "                    ] "
   ]
  },
  {
   "cell_type": "markdown",
   "metadata": {},
   "source": [
    "#### The fast way to compare things.\n",
    "We could now collect all of the summary stats and load rankings using:\n",
    "```\n",
    "stats,load_rankings = fp.batch_processing()\n",
    "```\n",
    "In `fp.batch_processing()` most of the analysis is done for any structure of data. I'm going to step through things a bit more piecewise in this notebook, however."
   ]
  },
  {
   "cell_type": "code",
   "execution_count": 8,
   "metadata": {},
   "outputs": [],
   "source": [
    "# stats,load_rankings = fp.batch_processing()"
   ]
  },
  {
   "cell_type": "markdown",
   "metadata": {},
   "source": [
    "### Design Comparisons\n",
    "We can use fp.design_comparison to compare multiple sets of runs (like we are in this case...). This will generate summary stats and load rankings, running parralelizing when it can and is told to. `fp.batch_processing()` functionally does the same thing. We'll the design comparison here to show some speed-related results"
   ]
  },
  {
   "cell_type": "code",
   "execution_count": 9,
   "metadata": {},
   "outputs": [
    {
     "data": {
      "text/plain": [
       "96.06093287467957"
      ]
     },
     "execution_count": 9,
     "metadata": {},
     "output_type": "execute_result"
    }
   ],
   "source": [
    "t1 = time.time()\n",
    "stats, load_ranking = fp.design_comparison(outfiles)\n",
    "time.time() - t1"
   ]
  },
  {
   "cell_type": "markdown",
   "metadata": {},
   "source": [
    "#### Breaking it down further...\n",
    "\n",
    "`fp.batch_processing()` calls `Analysis.Loads_Analysls.full_loads_analysis()` to load openfast data, generate stats, and calculate load rankings. Because we defined `fp.parallel_analysis=True` this process was parallelized. This helps for speed and memory reasons, because now every openfast run is not saved. `fp.batch_processing()` then takes all of the output data and parses it back together. \n",
    "\n",
    "Separately, we call call `Analysis.Loads_Analysls.full_loads_analysis()` with `return_FastData=True` and all of the fast data will be returned. Because we are comparing data though, we'll stick with the design comparison tools.\n",
    "\n",
    "### We can look at our data a bit further with pandas dataframes\n",
    "The data here is just for three runs for simplicity. Usually you'd do this for a LOT more cases..."
   ]
  },
  {
   "cell_type": "code",
   "execution_count": 10,
   "metadata": {},
   "outputs": [
    {
     "data": {
      "text/html": [
       "<div>\n",
       "<style scoped>\n",
       "    .dataframe tbody tr th:only-of-type {\n",
       "        vertical-align: middle;\n",
       "    }\n",
       "\n",
       "    .dataframe tbody tr th {\n",
       "        vertical-align: top;\n",
       "    }\n",
       "\n",
       "    .dataframe thead tr th {\n",
       "        text-align: left;\n",
       "    }\n",
       "</style>\n",
       "<table border=\"1\" class=\"dataframe\">\n",
       "  <thead>\n",
       "    <tr>\n",
       "      <th></th>\n",
       "      <th colspan=\"10\" halign=\"left\">DLC_1.1</th>\n",
       "      <th>...</th>\n",
       "      <th colspan=\"10\" halign=\"left\">DLC_1.3</th>\n",
       "    </tr>\n",
       "    <tr>\n",
       "      <th></th>\n",
       "      <th colspan=\"6\" halign=\"left\">Azimuth</th>\n",
       "      <th colspan=\"4\" halign=\"left\">B1N3Clrnc</th>\n",
       "      <th>...</th>\n",
       "      <th colspan=\"4\" halign=\"left\">YawBrMyp</th>\n",
       "      <th colspan=\"6\" halign=\"left\">YawBrMzp</th>\n",
       "    </tr>\n",
       "    <tr>\n",
       "      <th></th>\n",
       "      <th>abs</th>\n",
       "      <th>integrated</th>\n",
       "      <th>max</th>\n",
       "      <th>mean</th>\n",
       "      <th>min</th>\n",
       "      <th>std</th>\n",
       "      <th>abs</th>\n",
       "      <th>integrated</th>\n",
       "      <th>max</th>\n",
       "      <th>mean</th>\n",
       "      <th>...</th>\n",
       "      <th>max</th>\n",
       "      <th>mean</th>\n",
       "      <th>min</th>\n",
       "      <th>std</th>\n",
       "      <th>abs</th>\n",
       "      <th>integrated</th>\n",
       "      <th>max</th>\n",
       "      <th>mean</th>\n",
       "      <th>min</th>\n",
       "      <th>std</th>\n",
       "    </tr>\n",
       "  </thead>\n",
       "  <tbody>\n",
       "    <tr>\n",
       "      <th>0</th>\n",
       "      <td>359.998360</td>\n",
       "      <td>115610.344323</td>\n",
       "      <td>359.998360</td>\n",
       "      <td>179.916417</td>\n",
       "      <td>0.000000</td>\n",
       "      <td>103.915541</td>\n",
       "      <td>0.0</td>\n",
       "      <td>0.0</td>\n",
       "      <td>0.0</td>\n",
       "      <td>0.0</td>\n",
       "      <td>...</td>\n",
       "      <td>5687.967853</td>\n",
       "      <td>-383.981929</td>\n",
       "      <td>-6622.069859</td>\n",
       "      <td>1737.069191</td>\n",
       "      <td>8579.990130</td>\n",
       "      <td>1.621373e+06</td>\n",
       "      <td>8579.990130</td>\n",
       "      <td>187.334028</td>\n",
       "      <td>-6780.452776</td>\n",
       "      <td>2055.357993</td>\n",
       "    </tr>\n",
       "    <tr>\n",
       "      <th>1</th>\n",
       "      <td>359.987045</td>\n",
       "      <td>24235.239832</td>\n",
       "      <td>359.987045</td>\n",
       "      <td>179.635731</td>\n",
       "      <td>0.005493</td>\n",
       "      <td>103.898450</td>\n",
       "      <td>0.0</td>\n",
       "      <td>0.0</td>\n",
       "      <td>0.0</td>\n",
       "      <td>0.0</td>\n",
       "      <td>...</td>\n",
       "      <td>6835.267255</td>\n",
       "      <td>-170.899320</td>\n",
       "      <td>-5847.118306</td>\n",
       "      <td>1964.130974</td>\n",
       "      <td>7692.643524</td>\n",
       "      <td>-3.211141e+05</td>\n",
       "      <td>6887.358303</td>\n",
       "      <td>-109.329875</td>\n",
       "      <td>-7692.643524</td>\n",
       "      <td>1970.066781</td>\n",
       "    </tr>\n",
       "    <tr>\n",
       "      <th>2</th>\n",
       "      <td>359.998964</td>\n",
       "      <td>54802.558224</td>\n",
       "      <td>359.998964</td>\n",
       "      <td>179.675394</td>\n",
       "      <td>0.000000</td>\n",
       "      <td>103.846040</td>\n",
       "      <td>0.0</td>\n",
       "      <td>0.0</td>\n",
       "      <td>0.0</td>\n",
       "      <td>0.0</td>\n",
       "      <td>...</td>\n",
       "      <td>6288.900086</td>\n",
       "      <td>-169.509745</td>\n",
       "      <td>-7101.736067</td>\n",
       "      <td>1877.098958</td>\n",
       "      <td>8227.908823</td>\n",
       "      <td>8.690936e+05</td>\n",
       "      <td>8227.908823</td>\n",
       "      <td>198.247817</td>\n",
       "      <td>-6998.702585</td>\n",
       "      <td>2200.745797</td>\n",
       "    </tr>\n",
       "    <tr>\n",
       "      <th>3</th>\n",
       "      <td>359.995192</td>\n",
       "      <td>-85161.455250</td>\n",
       "      <td>359.995192</td>\n",
       "      <td>179.806159</td>\n",
       "      <td>0.005493</td>\n",
       "      <td>103.996468</td>\n",
       "      <td>0.0</td>\n",
       "      <td>0.0</td>\n",
       "      <td>0.0</td>\n",
       "      <td>0.0</td>\n",
       "      <td>...</td>\n",
       "      <td>6984.862206</td>\n",
       "      <td>-24.107531</td>\n",
       "      <td>-6495.954246</td>\n",
       "      <td>2101.079696</td>\n",
       "      <td>7995.033787</td>\n",
       "      <td>-4.419405e+06</td>\n",
       "      <td>7995.033787</td>\n",
       "      <td>-132.119173</td>\n",
       "      <td>-7752.051099</td>\n",
       "      <td>2119.468573</td>\n",
       "    </tr>\n",
       "    <tr>\n",
       "      <th>4</th>\n",
       "      <td>359.999055</td>\n",
       "      <td>1024.732815</td>\n",
       "      <td>359.999055</td>\n",
       "      <td>179.620563</td>\n",
       "      <td>0.000000</td>\n",
       "      <td>103.908648</td>\n",
       "      <td>0.0</td>\n",
       "      <td>0.0</td>\n",
       "      <td>0.0</td>\n",
       "      <td>0.0</td>\n",
       "      <td>...</td>\n",
       "      <td>6433.094034</td>\n",
       "      <td>20.726053</td>\n",
       "      <td>-7605.192051</td>\n",
       "      <td>1990.950649</td>\n",
       "      <td>8782.596164</td>\n",
       "      <td>8.610109e+05</td>\n",
       "      <td>8782.596164</td>\n",
       "      <td>186.059848</td>\n",
       "      <td>-6747.106181</td>\n",
       "      <td>2338.962718</td>\n",
       "    </tr>\n",
       "  </tbody>\n",
       "</table>\n",
       "<p>5 rows × 1296 columns</p>\n",
       "</div>"
      ],
      "text/plain": [
       "      DLC_1.1                                                               \\\n",
       "      Azimuth                                                                \n",
       "          abs     integrated         max        mean       min         std   \n",
       "0  359.998360  115610.344323  359.998360  179.916417  0.000000  103.915541   \n",
       "1  359.987045   24235.239832  359.987045  179.635731  0.005493  103.898450   \n",
       "2  359.998964   54802.558224  359.998964  179.675394  0.000000  103.846040   \n",
       "3  359.995192  -85161.455250  359.995192  179.806159  0.005493  103.996468   \n",
       "4  359.999055    1024.732815  359.999055  179.620563  0.000000  103.908648   \n",
       "\n",
       "                                  ...      DLC_1.3                           \\\n",
       "  B1N3Clrnc                       ...     YawBrMyp                            \n",
       "        abs integrated  max mean  ...          max        mean          min   \n",
       "0       0.0        0.0  0.0  0.0  ...  5687.967853 -383.981929 -6622.069859   \n",
       "1       0.0        0.0  0.0  0.0  ...  6835.267255 -170.899320 -5847.118306   \n",
       "2       0.0        0.0  0.0  0.0  ...  6288.900086 -169.509745 -7101.736067   \n",
       "3       0.0        0.0  0.0  0.0  ...  6984.862206  -24.107531 -6495.954246   \n",
       "4       0.0        0.0  0.0  0.0  ...  6433.094034   20.726053 -7605.192051   \n",
       "\n",
       "                                                                    \\\n",
       "                   YawBrMzp                                          \n",
       "           std          abs    integrated          max        mean   \n",
       "0  1737.069191  8579.990130  1.621373e+06  8579.990130  187.334028   \n",
       "1  1964.130974  7692.643524 -3.211141e+05  6887.358303 -109.329875   \n",
       "2  1877.098958  8227.908823  8.690936e+05  8227.908823  198.247817   \n",
       "3  2101.079696  7995.033787 -4.419405e+06  7995.033787 -132.119173   \n",
       "4  1990.950649  8782.596164  8.610109e+05  8782.596164  186.059848   \n",
       "\n",
       "                             \n",
       "                             \n",
       "           min          std  \n",
       "0 -6780.452776  2055.357993  \n",
       "1 -7692.643524  1970.066781  \n",
       "2 -6998.702585  2200.745797  \n",
       "3 -7752.051099  2119.468573  \n",
       "4 -6747.106181  2338.962718  \n",
       "\n",
       "[5 rows x 1296 columns]"
      ]
     },
     "execution_count": 10,
     "metadata": {},
     "output_type": "execute_result"
    }
   ],
   "source": [
    "stats_df = pdTools.dict2df(stats, names=['DLC_1.1', 'DLC_1.3'])\n",
    "stats_df.head()"
   ]
  },
  {
   "cell_type": "markdown",
   "metadata": {},
   "source": [
    "### Load Ranking\n",
    "Lets re-run the load ranking for the sake of example. We'll have to load the analysis tools, and then run the load ranking for the stats we just got. "
   ]
  },
  {
   "cell_type": "code",
   "execution_count": 11,
   "metadata": {},
   "outputs": [],
   "source": [
    "fa = Analysis.Loads_Analysis()\n",
    "fa.t0 = 30\n",
    "fa.verbose = False"
   ]
  },
  {
   "cell_type": "code",
   "execution_count": 12,
   "metadata": {},
   "outputs": [
    {
     "data": {
      "text/plain": [
       "True"
      ]
     },
     "execution_count": 12,
     "metadata": {},
     "output_type": "execute_result"
    }
   ],
   "source": [
    "isinstance(stats_df,pd.DataFrame)"
   ]
  },
  {
   "cell_type": "markdown",
   "metadata": {},
   "source": [
    "Define the ranking variables and statiscits of interest. Note that `len(ranking_vars) == len(ranking_stats)`! We can pass this a list of stats (multiple runs), a dictionary with one run of stats, or a pandas dataframe with the requisite stats. We'll also output a dictionary and a pandas DataFrame from `fa.load_ranking()`"
   ]
  },
  {
   "cell_type": "code",
   "execution_count": 13,
   "metadata": {},
   "outputs": [
    {
     "data": {
      "text/html": [
       "<div>\n",
       "<style scoped>\n",
       "    .dataframe tbody tr th:only-of-type {\n",
       "        vertical-align: middle;\n",
       "    }\n",
       "\n",
       "    .dataframe tbody tr th {\n",
       "        vertical-align: top;\n",
       "    }\n",
       "\n",
       "    .dataframe thead tr th {\n",
       "        text-align: left;\n",
       "    }\n",
       "</style>\n",
       "<table border=\"1\" class=\"dataframe\">\n",
       "  <thead>\n",
       "    <tr>\n",
       "      <th></th>\n",
       "      <th colspan=\"4\" halign=\"left\">DLC_1.1</th>\n",
       "      <th colspan=\"4\" halign=\"left\">DLC_1.3</th>\n",
       "    </tr>\n",
       "    <tr>\n",
       "      <th></th>\n",
       "      <th colspan=\"2\" halign=\"left\">OoPDefl</th>\n",
       "      <th colspan=\"2\" halign=\"left\">TwrBsFx</th>\n",
       "      <th colspan=\"2\" halign=\"left\">OoPDefl</th>\n",
       "      <th colspan=\"2\" halign=\"left\">TwrBsFx</th>\n",
       "    </tr>\n",
       "    <tr>\n",
       "      <th></th>\n",
       "      <th>max</th>\n",
       "      <th>max_case_idx</th>\n",
       "      <th>max</th>\n",
       "      <th>max_case_idx</th>\n",
       "      <th>max</th>\n",
       "      <th>max_case_idx</th>\n",
       "      <th>max</th>\n",
       "      <th>max_case_idx</th>\n",
       "    </tr>\n",
       "  </thead>\n",
       "  <tbody>\n",
       "    <tr>\n",
       "      <th>0</th>\n",
       "      <td>7.716517</td>\n",
       "      <td>7</td>\n",
       "      <td>1878.898899</td>\n",
       "      <td>7</td>\n",
       "      <td>9.100879</td>\n",
       "      <td>8</td>\n",
       "      <td>2108.355009</td>\n",
       "      <td>7</td>\n",
       "    </tr>\n",
       "    <tr>\n",
       "      <th>1</th>\n",
       "      <td>7.435798</td>\n",
       "      <td>8</td>\n",
       "      <td>1775.758615</td>\n",
       "      <td>9</td>\n",
       "      <td>8.497827</td>\n",
       "      <td>7</td>\n",
       "      <td>2027.430900</td>\n",
       "      <td>9</td>\n",
       "    </tr>\n",
       "    <tr>\n",
       "      <th>2</th>\n",
       "      <td>7.209455</td>\n",
       "      <td>9</td>\n",
       "      <td>1661.138297</td>\n",
       "      <td>5</td>\n",
       "      <td>8.496903</td>\n",
       "      <td>9</td>\n",
       "      <td>1978.243697</td>\n",
       "      <td>5</td>\n",
       "    </tr>\n",
       "    <tr>\n",
       "      <th>3</th>\n",
       "      <td>7.174903</td>\n",
       "      <td>5</td>\n",
       "      <td>1415.800448</td>\n",
       "      <td>8</td>\n",
       "      <td>8.492588</td>\n",
       "      <td>5</td>\n",
       "      <td>1652.299369</td>\n",
       "      <td>3</td>\n",
       "    </tr>\n",
       "    <tr>\n",
       "      <th>4</th>\n",
       "      <td>7.118868</td>\n",
       "      <td>3</td>\n",
       "      <td>1396.057606</td>\n",
       "      <td>3</td>\n",
       "      <td>8.487301</td>\n",
       "      <td>6</td>\n",
       "      <td>1481.976429</td>\n",
       "      <td>8</td>\n",
       "    </tr>\n",
       "  </tbody>\n",
       "</table>\n",
       "</div>"
      ],
      "text/plain": [
       "    DLC_1.1                                          DLC_1.3               \\\n",
       "    OoPDefl                   TwrBsFx                OoPDefl                \n",
       "        max max_case_idx          max max_case_idx       max max_case_idx   \n",
       "0  7.716517            7  1878.898899            7  9.100879            8   \n",
       "1  7.435798            8  1775.758615            9  8.497827            7   \n",
       "2  7.209455            9  1661.138297            5  8.496903            9   \n",
       "3  7.174903            5  1415.800448            8  8.492588            5   \n",
       "4  7.118868            3  1396.057606            3  8.487301            6   \n",
       "\n",
       "                             \n",
       "       TwrBsFx               \n",
       "           max max_case_idx  \n",
       "0  2108.355009            7  \n",
       "1  2027.430900            9  \n",
       "2  1978.243697            5  \n",
       "3  1652.299369            3  \n",
       "4  1481.976429            8  "
      ]
     },
     "execution_count": 13,
     "metadata": {},
     "output_type": "execute_result"
    }
   ],
   "source": [
    "ranking_vars = [['TwrBsFxt'], ['OoPDefl1', 'OoPDefl2', 'OoPDefl3']]\n",
    "ranking_stats = ['max', 'max']\n",
    "load_ranking, load_ranking_df = fa.load_ranking(stats_df, ranking_stats, ranking_vars, get_df=True)\n",
    "load_ranking_df.head()"
   ]
  },
  {
   "cell_type": "markdown",
   "metadata": {},
   "source": [
    "This is organized for each iteration of `[ranking_vars, ranking_stats]`. The stats are ordered accordingly, and `(stat)_case_idx` refers to the case name index of each load. "
   ]
  },
  {
   "cell_type": "markdown",
   "metadata": {},
   "source": [
    "### Wind speed related analysis\n",
    "We often want to make sense of some batch output data with data binned by windspeed. We can leverage the case-matrix from our output data to figure out the input wind speeds. Of course, `('InflowWind', 'Filename')` must exist in the case matrix. Lets load the wind speeds, save them, and append them to the case matrix as `('InflowWind', 'WindSpeed')`."
   ]
  },
  {
   "cell_type": "code",
   "execution_count": 14,
   "metadata": {},
   "outputs": [
    {
     "data": {
      "text/html": [
       "<div>\n",
       "<style scoped>\n",
       "    .dataframe tbody tr th:only-of-type {\n",
       "        vertical-align: middle;\n",
       "    }\n",
       "\n",
       "    .dataframe tbody tr th {\n",
       "        vertical-align: top;\n",
       "    }\n",
       "\n",
       "    .dataframe thead th {\n",
       "        text-align: right;\n",
       "    }\n",
       "</style>\n",
       "<table border=\"1\" class=\"dataframe\">\n",
       "  <thead>\n",
       "    <tr style=\"text-align: right;\">\n",
       "      <th></th>\n",
       "      <th>index</th>\n",
       "      <th>(IEC, DLC)</th>\n",
       "      <th>(AeroDyn15, TwrAero)</th>\n",
       "      <th>(DISCON_in, Fl_Mode)</th>\n",
       "      <th>(DISCON_in, PS_Mode)</th>\n",
       "      <th>(ElastoDyn, BlPitch1)</th>\n",
       "      <th>(ElastoDyn, BlPitch2)</th>\n",
       "      <th>(ElastoDyn, BlPitch3)</th>\n",
       "      <th>(ElastoDyn, RotSpeed)</th>\n",
       "      <th>(Fst, OutFileFmt)</th>\n",
       "      <th>(Fst, TMax)</th>\n",
       "      <th>(InflowWind, Filename)</th>\n",
       "      <th>(InflowWind, WindType)</th>\n",
       "      <th>(ServoDyn, DLL_FileName)</th>\n",
       "      <th>Case_ID</th>\n",
       "      <th>Case_Name</th>\n",
       "      <th>(InflowWind, WindSpeed)</th>\n",
       "      <th>(InflowWind, Seed)</th>\n",
       "      <th>(InflowWind, IECtype)</th>\n",
       "    </tr>\n",
       "  </thead>\n",
       "  <tbody>\n",
       "    <tr>\n",
       "      <th>0</th>\n",
       "      <td>5</td>\n",
       "      <td>1.1</td>\n",
       "      <td>True</td>\n",
       "      <td>0</td>\n",
       "      <td>0</td>\n",
       "      <td>0.0</td>\n",
       "      <td>0.0</td>\n",
       "      <td>0.0</td>\n",
       "      <td>8.469</td>\n",
       "      <td>2</td>\n",
       "      <td>660</td>\n",
       "      <td>/lustre/eaglefs/projects/ssc/nabbas/DLC_Analys...</td>\n",
       "      <td>3</td>\n",
       "      <td>/home/nabbas/ROSCO_toolbox/ROSCO/build/libdisc...</td>\n",
       "      <td>5</td>\n",
       "      <td>5MW_Land_rosco_05</td>\n",
       "      <td>7.0</td>\n",
       "      <td>12345.0</td>\n",
       "      <td>NTM</td>\n",
       "    </tr>\n",
       "    <tr>\n",
       "      <th>1</th>\n",
       "      <td>6</td>\n",
       "      <td>1.1</td>\n",
       "      <td>True</td>\n",
       "      <td>0</td>\n",
       "      <td>0</td>\n",
       "      <td>0.0</td>\n",
       "      <td>0.0</td>\n",
       "      <td>0.0</td>\n",
       "      <td>9.156</td>\n",
       "      <td>2</td>\n",
       "      <td>660</td>\n",
       "      <td>/lustre/eaglefs/projects/ssc/nabbas/DLC_Analys...</td>\n",
       "      <td>3</td>\n",
       "      <td>/home/nabbas/ROSCO_toolbox/ROSCO/build/libdisc...</td>\n",
       "      <td>6</td>\n",
       "      <td>5MW_Land_rosco_06</td>\n",
       "      <td>8.0</td>\n",
       "      <td>54321.0</td>\n",
       "      <td>NTM</td>\n",
       "    </tr>\n",
       "    <tr>\n",
       "      <th>2</th>\n",
       "      <td>7</td>\n",
       "      <td>1.1</td>\n",
       "      <td>True</td>\n",
       "      <td>0</td>\n",
       "      <td>0</td>\n",
       "      <td>0.0</td>\n",
       "      <td>0.0</td>\n",
       "      <td>0.0</td>\n",
       "      <td>9.156</td>\n",
       "      <td>2</td>\n",
       "      <td>660</td>\n",
       "      <td>/lustre/eaglefs/projects/ssc/nabbas/DLC_Analys...</td>\n",
       "      <td>3</td>\n",
       "      <td>/home/nabbas/ROSCO_toolbox/ROSCO/build/libdisc...</td>\n",
       "      <td>7</td>\n",
       "      <td>5MW_Land_rosco_07</td>\n",
       "      <td>8.0</td>\n",
       "      <td>12345.0</td>\n",
       "      <td>NTM</td>\n",
       "    </tr>\n",
       "    <tr>\n",
       "      <th>3</th>\n",
       "      <td>8</td>\n",
       "      <td>1.1</td>\n",
       "      <td>True</td>\n",
       "      <td>0</td>\n",
       "      <td>0</td>\n",
       "      <td>0.0</td>\n",
       "      <td>0.0</td>\n",
       "      <td>0.0</td>\n",
       "      <td>10.296</td>\n",
       "      <td>2</td>\n",
       "      <td>660</td>\n",
       "      <td>/lustre/eaglefs/projects/ssc/nabbas/DLC_Analys...</td>\n",
       "      <td>3</td>\n",
       "      <td>/home/nabbas/ROSCO_toolbox/ROSCO/build/libdisc...</td>\n",
       "      <td>8</td>\n",
       "      <td>5MW_Land_rosco_08</td>\n",
       "      <td>9.0</td>\n",
       "      <td>54321.0</td>\n",
       "      <td>NTM</td>\n",
       "    </tr>\n",
       "    <tr>\n",
       "      <th>4</th>\n",
       "      <td>9</td>\n",
       "      <td>1.1</td>\n",
       "      <td>True</td>\n",
       "      <td>0</td>\n",
       "      <td>0</td>\n",
       "      <td>0.0</td>\n",
       "      <td>0.0</td>\n",
       "      <td>0.0</td>\n",
       "      <td>10.296</td>\n",
       "      <td>2</td>\n",
       "      <td>660</td>\n",
       "      <td>/lustre/eaglefs/projects/ssc/nabbas/DLC_Analys...</td>\n",
       "      <td>3</td>\n",
       "      <td>/home/nabbas/ROSCO_toolbox/ROSCO/build/libdisc...</td>\n",
       "      <td>9</td>\n",
       "      <td>5MW_Land_rosco_09</td>\n",
       "      <td>9.0</td>\n",
       "      <td>12345.0</td>\n",
       "      <td>NTM</td>\n",
       "    </tr>\n",
       "  </tbody>\n",
       "</table>\n",
       "</div>"
      ],
      "text/plain": [
       "   index  (IEC, DLC)  (AeroDyn15, TwrAero)  (DISCON_in, Fl_Mode)  \\\n",
       "0      5         1.1                  True                     0   \n",
       "1      6         1.1                  True                     0   \n",
       "2      7         1.1                  True                     0   \n",
       "3      8         1.1                  True                     0   \n",
       "4      9         1.1                  True                     0   \n",
       "\n",
       "   (DISCON_in, PS_Mode)  (ElastoDyn, BlPitch1)  (ElastoDyn, BlPitch2)  \\\n",
       "0                     0                    0.0                    0.0   \n",
       "1                     0                    0.0                    0.0   \n",
       "2                     0                    0.0                    0.0   \n",
       "3                     0                    0.0                    0.0   \n",
       "4                     0                    0.0                    0.0   \n",
       "\n",
       "   (ElastoDyn, BlPitch3)  (ElastoDyn, RotSpeed)  (Fst, OutFileFmt)  \\\n",
       "0                    0.0                  8.469                  2   \n",
       "1                    0.0                  9.156                  2   \n",
       "2                    0.0                  9.156                  2   \n",
       "3                    0.0                 10.296                  2   \n",
       "4                    0.0                 10.296                  2   \n",
       "\n",
       "   (Fst, TMax)                             (InflowWind, Filename)  \\\n",
       "0          660  /lustre/eaglefs/projects/ssc/nabbas/DLC_Analys...   \n",
       "1          660  /lustre/eaglefs/projects/ssc/nabbas/DLC_Analys...   \n",
       "2          660  /lustre/eaglefs/projects/ssc/nabbas/DLC_Analys...   \n",
       "3          660  /lustre/eaglefs/projects/ssc/nabbas/DLC_Analys...   \n",
       "4          660  /lustre/eaglefs/projects/ssc/nabbas/DLC_Analys...   \n",
       "\n",
       "   (InflowWind, WindType)                           (ServoDyn, DLL_FileName)  \\\n",
       "0                       3  /home/nabbas/ROSCO_toolbox/ROSCO/build/libdisc...   \n",
       "1                       3  /home/nabbas/ROSCO_toolbox/ROSCO/build/libdisc...   \n",
       "2                       3  /home/nabbas/ROSCO_toolbox/ROSCO/build/libdisc...   \n",
       "3                       3  /home/nabbas/ROSCO_toolbox/ROSCO/build/libdisc...   \n",
       "4                       3  /home/nabbas/ROSCO_toolbox/ROSCO/build/libdisc...   \n",
       "\n",
       "   Case_ID          Case_Name  (InflowWind, WindSpeed)  (InflowWind, Seed)  \\\n",
       "0        5  5MW_Land_rosco_05                      7.0             12345.0   \n",
       "1        6  5MW_Land_rosco_06                      8.0             54321.0   \n",
       "2        7  5MW_Land_rosco_07                      8.0             12345.0   \n",
       "3        8  5MW_Land_rosco_08                      9.0             54321.0   \n",
       "4        9  5MW_Land_rosco_09                      9.0             12345.0   \n",
       "\n",
       "  (InflowWind, IECtype)  \n",
       "0                   NTM  \n",
       "1                   NTM  \n",
       "2                   NTM  \n",
       "3                   NTM  \n",
       "4                   NTM  "
      ]
     },
     "execution_count": 14,
     "metadata": {},
     "output_type": "execute_result"
    }
   ],
   "source": [
    "windspeed, seed, IECtype, cmw = Processing.get_windspeeds(cm2, return_df=True)\n",
    "cmw.head()"
   ]
  },
  {
   "cell_type": "markdown",
   "metadata": {},
   "source": [
    "#### AEP\n",
    "Now that we know the wind speeds that we were operating at, we can find the AEP. "
   ]
  },
  {
   "cell_type": "code",
   "execution_count": 15,
   "metadata": {},
   "outputs": [
    {
     "name": "stdout",
     "output_type": "stream",
     "text": [
      "AEP = [19883012.24116963 21122666.10902583]\n"
     ]
    }
   ],
   "source": [
    "pp = Analysis.Power_Production()\n",
    "Vavg = 10 # Averag e wind speed of cite\n",
    "Vrange = [2,26] # Range of wind speeds being considered\n",
    "bnums = int(len(windspeed)/len(fp.dataset_names)) # Number of wind speeds per dataset for binning data\n",
    "pp.windspeeds = list(set(windspeed))\n",
    "p = pp.gen_windPDF(Vavg, bnums, Vrange)\n",
    "AEP = pp.AEP(stats)\n",
    "print('AEP = {}'.format(AEP))"
   ]
  },
  {
   "cell_type": "markdown",
   "metadata": {},
   "source": [
    "### Plotting\n",
    "Finally, we can make some plots. There are a few tools we have at our disposal here. First, we can look at more plots that show our design performance as a function of wind speed. Notably, we can pass the stats dictionary or dataframe to these statistics-related scripts.\n",
    "\n",
    "Currently, `an_plts.stat_curve()` can plot a \"statistics curve\" for of two types, a bar or a line graph. \n",
    "\n",
    "A bar graph is useful to compare design cases easily:"
   ]
  },
  {
   "cell_type": "code",
   "execution_count": 16,
   "metadata": {},
   "outputs": [
    {
     "data": {
      "image/png": "[encoded data removed]",
      "text/plain": [
       "<Figure size 432x288 with 1 Axes>"
      ]
     },
     "metadata": {
      "needs_background": "light"
     },
     "output_type": "display_data"
    }
   ],
   "source": [
    "plt.close()\n",
    "an_plts = Analysis.wsPlotting()\n",
    "an_plts.stat_curve(windspeed, stats, 'RotSpeed', 'bar', names=['DLC1.1', 'DLC1.3'])\n",
    "plt.show()"
   ]
  },
  {
   "cell_type": "markdown",
   "metadata": {},
   "source": [
    "A line graph can be useful to show turbulent wind curves. Here we show the means with a first level of errorbars corresponding to standard deviations, and a second level showing minimums and maximums."
   ]
  },
  {
   "cell_type": "code",
   "execution_count": 17,
   "metadata": {},
   "outputs": [
    {
     "data": {
      "image/png": "[encoded data removed]",
      "text/plain": [
       "<Figure size 432x288 with 1 Axes>"
      ]
     },
     "metadata": {
      "needs_background": "light"
     },
     "output_type": "display_data"
    }
   ],
   "source": [
    "an_plts.stat_curve(windspeed, stats, 'GenPwr', 'line', stat_idx=1, names=['DLC1.3'])\n",
    "plt.show()"
   ]
  },
  {
   "cell_type": "markdown",
   "metadata": {},
   "source": [
    "#### Time domain related data\n",
    "We can also look at our data from the time domain results. \n",
    "\n",
    "We can compare any number of channels using the ROSCO toolbox plotting tools. First we'll load two cases to plot together, then plot the time histories."
   ]
  },
  {
   "cell_type": "code",
   "execution_count": 18,
   "metadata": {},
   "outputs": [
    {
     "data": {
      "text/plain": [
       "['../BatchOutputs/5MW_Land/5MW_Land_ROSCO/5MW_Land_rosco_07.outb',\n",
       " '../BatchOutputs/5MW_Land/5MW_Land_ROSCO/5MW_Land_rosco_39.outb']"
      ]
     },
     "execution_count": 18,
     "metadata": {},
     "output_type": "execute_result"
    }
   ],
   "source": [
    "#  Load some time domain cases \n",
    "filenames = [outfiles[0][2], outfiles[1][2]] # select the 2nd run from each dataset\n",
    "fast_data = fast_io.load_FAST_out(filenames, tmin=30)\n",
    "filenames"
   ]
  },
  {
   "cell_type": "code",
   "execution_count": 19,
   "metadata": {},
   "outputs": [
    {
     "data": {
      "image/png": "[encoded data removed]",
      "text/plain": [
       "<Figure size 432x288 with 5 Axes>"
      ]
     },
     "metadata": {
      "needs_background": "light"
     },
     "output_type": "display_data"
    }
   ],
   "source": [
    "# Define the plots we want to make (can be as many or as few channels and plots as you would like...)\n",
    "cases = {'Baseline': ['Wind1VelX', 'GenPwr', 'BldPitch1', 'GenTq', 'RotSpeed']}\n",
    "\n",
    "# plot\n",
    "fast_pl.plot_fast_out(cases, fast_data)\n",
    "plt.show()"
   ]
  },
  {
   "cell_type": "markdown",
   "metadata": {},
   "source": [
    "We can additionally do some frequency domain analysis. Here, `spec_cases` is defined by `(channel, run)` where the run index corresponds to the desired plotting index in the loaded fast data."
   ]
  },
  {
   "cell_type": "code",
   "execution_count": 20,
   "metadata": {},
   "outputs": [
    {
     "name": "stdout",
     "output_type": "stream",
     "text": [
      "[WARN] dt from tmax-tmin different from dt from t2-t1\n",
      "[WARN] dt from tmax-tmin different from dt from t2-t1\n"
     ]
    },
    {
     "data": {
      "image/png": "[encoded data removed]",
      "text/plain": [
       "<Figure size 432x288 with 1 Axes>"
      ]
     },
     "metadata": {
      "needs_background": "light"
     },
     "output_type": "display_data"
    }
   ],
   "source": [
    "spec_cases = [('RootMyb1', 0), ('TwrBsFyt', 0)]\n",
    "twrfreq = .0716\n",
    "fig, ax = fast_pl.plot_spectral(fast_data, spec_cases, \n",
    "                                show_RtSpeed=True, RtSpeed_idx=[0],\n",
    "                                add_freqs=[twrfreq], add_freq_labels=['Tower'],\n",
    "                                averaging='Welch')\n",
    "ax.set_title('DLC_1.1')\n",
    "plt.show()"
   ]
  },
  {
   "cell_type": "markdown",
   "metadata": {},
   "source": [
    "Finally, we can plot the distribution of any channels from our fast output data"
   ]
  },
  {
   "cell_type": "code",
   "execution_count": 22,
   "metadata": {},
   "outputs": [
    {
     "data": {
      "image/png": "[encoded data removed]",
      "text/plain": [
       "<Figure size 432x288 with 1 Axes>"
      ]
     },
     "metadata": {
      "needs_background": "light"
     },
     "output_type": "display_data"
    }
   ],
   "source": [
    "an_plts = Analysis.wsPlotting()\n",
    "channels = ['RotSpeed']\n",
    "caseid = [0,1]\n",
    "an_plts.distribution(fast_data, channels, caseid, names=['DLC 1.1', 'DLC 1.3'])\n",
    "plt.show()"
   ]
  },
  {
   "cell_type": "code",
   "execution_count": null,
   "metadata": {},
   "outputs": [],
   "source": []
  }
 ],
 "metadata": {
  "kernelspec": {
   "display_name": "Python [conda env:wisdem-env] *",
   "language": "python",
   "name": "conda-env-wisdem-env-py"
  },
  "language_info": {
   "codemirror_mode": {
    "name": "ipython",
    "version": 3
   },
   "file_extension": ".py",
   "mimetype": "text/x-python",
   "name": "python",
   "nbconvert_exporter": "python",
   "pygments_lexer": "ipython3",
   "version": "3.7.6"
  }
 },
 "nbformat": 4,
 "nbformat_minor": 4
}
